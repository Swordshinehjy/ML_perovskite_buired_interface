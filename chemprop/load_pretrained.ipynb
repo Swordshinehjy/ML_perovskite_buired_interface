{
 "cells": [
  {
   "cell_type": "code",
   "execution_count": 1,
   "metadata": {},
   "outputs": [
    {
     "name": "stderr",
     "output_type": "stream",
     "text": [
      "GPU available: True (cuda), used: True\n",
      "TPU available: False, using: 0 TPU cores\n",
      "IPU available: False, using: 0 IPUs\n",
      "HPU available: False, using: 0 HPUs\n",
      "d:\\anaconda3\\envs\\chemprop2\\Lib\\site-packages\\lightning\\pytorch\\trainer\\connectors\\logger_connector\\logger_connector.py:75: Starting from v1.9.0, `tensorboardX` has been removed as a dependency of the `lightning.pytorch` package, due to potential conflicts with other packages in the ML ecosystem. For this reason, `logger=True` will use `CSVLogger` as the default logger, unless the `tensorboard` or `tensorboardX` packages are found. Please `pip install lightning[extra]` or one of them to enable TensorBoard support by default\n",
      "You are using a CUDA device ('NVIDIA GeForce RTX 3060 Ti') that has Tensor Cores. To properly utilize them, you should set `torch.set_float32_matmul_precision('medium' | 'high')` which will trade-off precision for performance. For more details, read https://pytorch.org/docs/stable/generated/torch.set_float32_matmul_precision.html#torch.set_float32_matmul_precision\n",
      "Missing logger folder: e:\\other\\Colleague\\zhangqi\\PTZ\\article\\code\\chemprop\\lightning_logs\n",
      "LOCAL_RANK: 0 - CUDA_VISIBLE_DEVICES: [0]\n",
      "d:\\anaconda3\\envs\\chemprop2\\Lib\\site-packages\\lightning\\pytorch\\trainer\\connectors\\data_connector.py:441: The 'predict_dataloader' does not have many workers which may be a bottleneck. Consider increasing the value of the `num_workers` argument` to `num_workers=15` in the `DataLoader` to improve performance.\n"
     ]
    },
    {
     "name": "stdout",
     "output_type": "stream",
     "text": [
      "Predicting DataLoader 0: 100%|██████████| 1/1 [00:02<00:00,  0.38it/s]\n"
     ]
    }
   ],
   "source": [
    "from chemprop import data, featurizers, utils\n",
    "import pandas as pd\n",
    "import torch\n",
    "import numpy as np\n",
    "from lightning import pytorch as pl\n",
    "new_mols = pd.read_csv('new-mol-data.csv')\n",
    "new_smiles = new_mols['SMILES']\n",
    "test_mols = [utils.make_mol(new, keep_h=False, add_h=False) for new in new_smiles]\n",
    "test_feats = np.array(new_mols.iloc[:,2:])\n",
    "test_data = [\n",
    "    data.MoleculeDatapoint(mol, V_f=None, E_f=None, V_d=None ,x_d=X_d)\n",
    "    for mol, X_d in zip(\n",
    "        test_mols,\n",
    "        test_feats,\n",
    "    )\n",
    "]\n",
    "\n",
    "featurizer = featurizers.SimpleMoleculeMolGraphFeaturizer()\n",
    "test_dset = data.MoleculeDataset(test_data, featurizer=featurizer)\n",
    "test_loader = data.build_dataloader(test_dset, shuffle=False)\n",
    "model = torch.load('mpnn_v2.ckpt')\n",
    "with torch.inference_mode():\n",
    "    trainer = pl.Trainer(\n",
    "        logger=None,\n",
    "        enable_progress_bar=True,\n",
    "        accelerator=\"gpu\",\n",
    "        devices=1\n",
    "    )\n",
    "    test_preds = trainer.predict(model, test_loader)"
   ]
  },
  {
   "cell_type": "code",
   "execution_count": 2,
   "metadata": {},
   "outputs": [
    {
     "data": {
      "text/html": [
       "<div>\n",
       "<style scoped>\n",
       "    .dataframe tbody tr th:only-of-type {\n",
       "        vertical-align: middle;\n",
       "    }\n",
       "\n",
       "    .dataframe tbody tr th {\n",
       "        vertical-align: top;\n",
       "    }\n",
       "\n",
       "    .dataframe thead th {\n",
       "        text-align: right;\n",
       "    }\n",
       "</style>\n",
       "<table border=\"1\" class=\"dataframe\">\n",
       "  <thead>\n",
       "    <tr style=\"text-align: right;\">\n",
       "      <th></th>\n",
       "      <th>SMILES</th>\n",
       "      <th>NAME</th>\n",
       "      <th>pred</th>\n",
       "    </tr>\n",
       "  </thead>\n",
       "  <tbody>\n",
       "    <tr>\n",
       "      <th>0</th>\n",
       "      <td>O=P(O)(O)CCN1c2ccccc2Sc2ccccc21</td>\n",
       "      <td>PAPZ</td>\n",
       "      <td>24.738579</td>\n",
       "    </tr>\n",
       "    <tr>\n",
       "      <th>1</th>\n",
       "      <td>O=P(O)(O)CCN1c2ccccc2S(=O)(=O)c2ccccc21</td>\n",
       "      <td>PAPZO</td>\n",
       "      <td>25.703407</td>\n",
       "    </tr>\n",
       "  </tbody>\n",
       "</table>\n",
       "</div>"
      ],
      "text/plain": [
       "                                    SMILES   NAME       pred\n",
       "0          O=P(O)(O)CCN1c2ccccc2Sc2ccccc21   PAPZ  24.738579\n",
       "1  O=P(O)(O)CCN1c2ccccc2S(=O)(=O)c2ccccc21  PAPZO  25.703407"
      ]
     },
     "execution_count": 2,
     "metadata": {},
     "output_type": "execute_result"
    }
   ],
   "source": [
    "test_preds = np.concatenate(test_preds, axis=0)\n",
    "new_mols['pred'] = test_preds\n",
    "new_mols[['SMILES',\t'NAME',\t'pred']]"
   ]
  },
  {
   "cell_type": "code",
   "execution_count": 3,
   "metadata": {},
   "outputs": [
    {
     "data": {
      "image/png": "[encoded data removed]",
      "text/plain": [
       "<IPython.core.display.Image object>"
      ]
     },
     "execution_count": 3,
     "metadata": {},
     "output_type": "execute_result"
    }
   ],
   "source": [
    "from rdkit import Chem\n",
    "from rdkit.Chem.Draw import MolsToGridImage\n",
    "mols =[Chem.MolFromSmiles(smi) for smi in new_mols['SMILES']]\n",
    "legends = [f'{name}: {pred:.3f}%' for name, pred in zip(new_mols['NAME'], new_mols['pred'])]\n",
    "MolsToGridImage(mols,subImgSize=(200,150),molsPerRow=4,legends=legends)"
   ]
  },
  {
   "cell_type": "code",
   "execution_count": null,
   "metadata": {},
   "outputs": [],
   "source": []
  }
 ],
 "metadata": {
  "kernelspec": {
   "display_name": "chemprop",
   "language": "python",
   "name": "python3"
  },
  "language_info": {
   "codemirror_mode": {
    "name": "ipython",
    "version": 3
   },
   "file_extension": ".py",
   "mimetype": "text/x-python",
   "name": "python",
   "nbconvert_exporter": "python",
   "pygments_lexer": "ipython3",
   "version": "3.11.8"
  }
 },
 "nbformat": 4,
 "nbformat_minor": 2
}
