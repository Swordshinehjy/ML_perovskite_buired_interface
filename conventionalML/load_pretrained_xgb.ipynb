{
 "cells": [
  {
   "cell_type": "code",
   "execution_count": 1,
   "metadata": {},
   "outputs": [],
   "source": [
    "import numpy as np\n",
    "import pandas as pd\n",
    "import shap\n",
    "import xgboost as xgb\n",
    "from sklearn import metrics\n",
    "from joblib import dump, load\n",
    "from scipy import stats\n",
    "from sklearn.metrics import mean_squared_error, r2_score\n",
    "import matplotlib.pyplot as plt\n",
    "import warnings\n",
    "from rdkit import Chem\n",
    "from rdkit.Chem.Draw import MolsToGridImage\n",
    "data0 = pd.read_csv('dataset.csv')\n",
    "x = data0.iloc[:,:-1]\n",
    "y = data0.iloc[:,-1]\n",
    "from sklearn.model_selection import ShuffleSplit,train_test_split\n",
    "x_train, x_test, y_train, y_test = train_test_split(x, y, test_size=0.15, random_state=0)"
   ]
  },
  {
   "cell_type": "code",
   "execution_count": 5,
   "metadata": {},
   "outputs": [],
   "source": [
    "# load pretained model\n",
    "xgb = load('pretrained_xgb.pkl')"
   ]
  },
  {
   "cell_type": "code",
   "execution_count": 6,
   "metadata": {},
   "outputs": [
    {
     "data": {
      "text/html": [
       "<div>\n",
       "<style scoped>\n",
       "    .dataframe tbody tr th:only-of-type {\n",
       "        vertical-align: middle;\n",
       "    }\n",
       "\n",
       "    .dataframe tbody tr th {\n",
       "        vertical-align: top;\n",
       "    }\n",
       "\n",
       "    .dataframe thead th {\n",
       "        text-align: right;\n",
       "    }\n",
       "</style>\n",
       "<table border=\"1\" class=\"dataframe\">\n",
       "  <thead>\n",
       "    <tr style=\"text-align: right;\">\n",
       "      <th></th>\n",
       "      <th>NumHAcceptors</th>\n",
       "      <th>NumHDonors</th>\n",
       "      <th>alkyl_num</th>\n",
       "      <th>frag_sym</th>\n",
       "      <th>HOMO_calc</th>\n",
       "      <th>LUMO_calc</th>\n",
       "      <th>dipole</th>\n",
       "      <th>MPI</th>\n",
       "      <th>surface_min</th>\n",
       "      <th>surface_max</th>\n",
       "      <th>...</th>\n",
       "      <th>anchor_end_PA</th>\n",
       "      <th>anchor_end_PO</th>\n",
       "      <th>anchor_end_SA</th>\n",
       "      <th>anchor_end_SH</th>\n",
       "      <th>anchor_end_SiO</th>\n",
       "      <th>MetalOxide_ITO</th>\n",
       "      <th>MetalOxide_NiOx</th>\n",
       "      <th>MetalOxide_SnO2</th>\n",
       "      <th>MetalOxide_TiO2</th>\n",
       "      <th>MetalOxide_ZnO</th>\n",
       "    </tr>\n",
       "  </thead>\n",
       "  <tbody>\n",
       "    <tr>\n",
       "      <th>0</th>\n",
       "      <td>3</td>\n",
       "      <td>2</td>\n",
       "      <td>2</td>\n",
       "      <td>1</td>\n",
       "      <td>-5.121563</td>\n",
       "      <td>-0.758256</td>\n",
       "      <td>1.843519</td>\n",
       "      <td>11.30920</td>\n",
       "      <td>-39.83471</td>\n",
       "      <td>55.38445</td>\n",
       "      <td>...</td>\n",
       "      <td>1</td>\n",
       "      <td>0</td>\n",
       "      <td>0</td>\n",
       "      <td>0</td>\n",
       "      <td>0</td>\n",
       "      <td>0</td>\n",
       "      <td>0</td>\n",
       "      <td>1</td>\n",
       "      <td>0</td>\n",
       "      <td>0</td>\n",
       "    </tr>\n",
       "    <tr>\n",
       "      <th>1</th>\n",
       "      <td>4</td>\n",
       "      <td>2</td>\n",
       "      <td>2</td>\n",
       "      <td>1</td>\n",
       "      <td>-6.139971</td>\n",
       "      <td>-1.410486</td>\n",
       "      <td>5.642262</td>\n",
       "      <td>15.19583</td>\n",
       "      <td>-42.66831</td>\n",
       "      <td>59.34802</td>\n",
       "      <td>...</td>\n",
       "      <td>1</td>\n",
       "      <td>0</td>\n",
       "      <td>0</td>\n",
       "      <td>0</td>\n",
       "      <td>0</td>\n",
       "      <td>0</td>\n",
       "      <td>0</td>\n",
       "      <td>1</td>\n",
       "      <td>0</td>\n",
       "      <td>0</td>\n",
       "    </tr>\n",
       "  </tbody>\n",
       "</table>\n",
       "<p>2 rows × 27 columns</p>\n",
       "</div>"
      ],
      "text/plain": [
       "   NumHAcceptors  NumHDonors  alkyl_num  frag_sym  HOMO_calc  LUMO_calc  \\\n",
       "0              3           2          2         1  -5.121563  -0.758256   \n",
       "1              4           2          2         1  -6.139971  -1.410486   \n",
       "\n",
       "     dipole       MPI  surface_min  surface_max  ...  anchor_end_PA  \\\n",
       "0  1.843519  11.30920    -39.83471     55.38445  ...              1   \n",
       "1  5.642262  15.19583    -42.66831     59.34802  ...              1   \n",
       "\n",
       "   anchor_end_PO  anchor_end_SA  anchor_end_SH  anchor_end_SiO  \\\n",
       "0              0              0              0               0   \n",
       "1              0              0              0               0   \n",
       "\n",
       "   MetalOxide_ITO  MetalOxide_NiOx  MetalOxide_SnO2  MetalOxide_TiO2  \\\n",
       "0               0                0                1                0   \n",
       "1               0                0                1                0   \n",
       "\n",
       "   MetalOxide_ZnO  \n",
       "0               0  \n",
       "1               0  \n",
       "\n",
       "[2 rows x 27 columns]"
      ]
     },
     "execution_count": 6,
     "metadata": {},
     "output_type": "execute_result"
    }
   ],
   "source": [
    "newmol = pd.read_csv('new_mol.csv')\n",
    "newmol.head()"
   ]
  },
  {
   "cell_type": "code",
   "execution_count": 7,
   "metadata": {},
   "outputs": [
    {
     "data": {
      "text/plain": [
       "array([23.458006, 23.961754], dtype=float32)"
      ]
     },
     "execution_count": 7,
     "metadata": {},
     "output_type": "execute_result"
    }
   ],
   "source": [
    "pred = xgb.predict(newmol)\n",
    "pred"
   ]
  },
  {
   "cell_type": "code",
   "execution_count": null,
   "metadata": {},
   "outputs": [],
   "source": []
  }
 ],
 "metadata": {
  "kernelspec": {
   "display_name": "rdkit",
   "language": "python",
   "name": "python3"
  },
  "language_info": {
   "codemirror_mode": {
    "name": "ipython",
    "version": 3
   },
   "file_extension": ".py",
   "mimetype": "text/x-python",
   "name": "python",
   "nbconvert_exporter": "python",
   "pygments_lexer": "ipython3",
   "version": "3.9.10"
  }
 },
 "nbformat": 4,
 "nbformat_minor": 2
}
